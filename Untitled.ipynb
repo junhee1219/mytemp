{
 "cells": [
  {
   "cell_type": "code",
   "execution_count": 18,
   "id": "e703f0a8-0d83-42ca-929e-5dc881b118aa",
   "metadata": {},
   "outputs": [
    {
     "name": "stdout",
     "output_type": "stream",
     "text": [
      "Done : file open (7.21)"
     ]
    }
   ],
   "source": [
    "import openpyxl\n",
    "from openpyxl import load_workbook\n",
    "import time\n",
    "start_time = time.time()\n",
    "# your code\n",
    "\n",
    "\n",
    "# data_only=True로 해줘야 수식이 아닌 값으로 받아온다.\n",
    "filepath=\"./221116_22년 10월 생손보 월초비례.xlsx\"\n",
    "load_wb = load_workbook(filepath, data_only=True)\n",
    "\n",
    "\n",
    "# # 셀 주소로 값 출력\n",
    "# print(load_ws['B2'].value)\n",
    "elapsed_time = time.time() - start_time\n",
    "print(\"Done : file open (\",end=\"\")\n",
    "print(round(elapsed_time,2),end=\")\")"
   ]
  },
  {
   "cell_type": "code",
   "execution_count": 19,
   "id": "f0bd7ee6-b347-4bb2-9891-ef8dfc51993a",
   "metadata": {},
   "outputs": [],
   "source": [
    "start_time = time.time()\n",
    "sheetname='신계약'\n",
    "# 시트 이름으로 불러오기\n",
    "load_sheet = load_wb[sheetname]\n",
    "elapsed_time = time.time() - start_time"
   ]
  },
  {
   "cell_type": "code",
   "execution_count": 23,
   "id": "d65fb695-5308-4cec-b8e0-e58feb34c759",
   "metadata": {},
   "outputs": [
    {
     "name": "stdout",
     "output_type": "stream",
     "text": [
      "{'상품구분': 0, '시책대상 월초': 1, 'GA모집자ID': 2, '본부': 3, '사업단': 4, '팀': 5, '소속약어': 6, '성명': 7, '직책': 8, '계약일자': 9, '보험사명': 10, '계약번호': 11, '계약상태': 12, '상품구분명': 13, '상품명': 14, '상품종류': 15, '상품보종코드': 16, '구분': 17, '납입방법': 18, '환산건수': 19, '절대건수': 20, '초회보험료': 21, '월납화보험료': 22, '-': 23, '환산월초': 24, '납입주기': 25, '납입기간': 26, '계약자주민번호': 27, '계약자명': 28, 1: 29, 2: 30, 3: 31, 4: 32, 5: 33, 6: 34, 7: 35, '피보험자': 36, '피보험자주민번호': 37, '계약이관여부': 38, '주계약가입금액': 39, '제휴사환산': 40, '계약구분': 41, 8: 42, 9: 43, '3w건수': 44, '동의서': 45, 'DB제공가': 46, '계약등록시각': 47, '전자청약': 48}\n"
     ]
    }
   ],
   "source": [
    "def getval(cells):\n",
    "    result=[]\n",
    "    Nonecheck=False\n",
    "    for i in cells:\n",
    "        if i.value is not None:\n",
    "            Nonecheck=True\n",
    "        if Nonecheck:\n",
    "            result.append(i.value)\n",
    "        else:\n",
    "            pass\n",
    "    if result==[]:\n",
    "        return None\n",
    "    return result\n",
    "\n",
    "\n",
    "namespace = load_sheet['3']\n",
    "cd={}\n",
    "idx=0\n",
    "for i in getval(namespace):\n",
    "    cd[i]=idx\n",
    "    idx+=1\n",
    "print(cd)\n",
    "get_cells = load_sheet.rows\n",
    "\n",
    "\n",
    "alltable=[]\n",
    "for row in get_cells:\n",
    "    if getval(row) is not None:\n",
    "        alltable.append(getval(row))\n",
    "\n",
    "        \n",
    "\n",
    "#일단 대상보험사 다불러와\n",
    "\n",
    "goods={ \"KDB\"    : [\"오행복\",\"버팀목\"],\n",
    "        \"DGB\"    : [\"마이솔\",\"그랑\",\"마음든든\"],\n",
    "        \"하나\"   : [\"하나로\"],\n",
    "        \"푸르\"   : [\"100세\",\"달러평생\",\"달러 평생\",\"함께\"],\n",
    "        \"삼성\"   : [\"신성장\"],\n",
    "        \"라이나\" : [\"종신\"],\n",
    "        \"메트\"   : [\"모두의\",\"백만인\"],\n",
    "        \"미래\"   : [\"선택하는\"],\n",
    "        \"DB\"     : [\"알차고\",\"암종신\"]\n",
    "        }\n",
    "\n",
    "resulttable=[]\n",
    "\n",
    "for row in alltable[2:]:\n",
    "    for i in goods:\n",
    "        for k in goods[i]:\n",
    "            if i in row[cd[\"보험사명\"]] and k in row[cd[\"상품명\"]] and row[cd[\"납입주기\"]]!=\"일시납\" and row[cd[\"계약구분\"]]!=\"본인\":\n",
    "                resulttable.append(row)\n",
    "\n",
    "idx=0\n",
    "#resulttable = [row for row in resulttable if int(row[cd[\"납입기간\"]])>10]\n",
    "\n",
    "for row in resulttable:\n",
    "    if \"푸르\" in row[cd[\"보험사명\"]] and (\"100세\" in row[cd[\"상품명\"]] or \"달러평생\" in row[cd[\"상품명\"]]):\n",
    "        row.append(int(row[cd[\"월납화보험료\"]]*0.7))\n",
    "        \n",
    "    elif int(row[cd[\"납입기간\"]])<10 and \"삼성\" in row[cd[\"보험사명\"]]:\n",
    "        row.append(int(row[cd[\"월납화보험료\"]]*0.5))   \n",
    "        \n",
    "    elif \"기본형\" in row[cd[\"상품명\"]] and \"라이나\" in row[cd[\"보험사명\"]]:\n",
    "        row.append(0) \n",
    "    \n",
    "    elif \"표준형\" in row[cd[\"상품명\"]] and \"KDB\" in row[cd[\"보험사명\"]]:\n",
    "        row.append(int(row[cd[\"월납화보험료\"]]*0.5)) \n",
    "    \n",
    "    elif \"모두의\" in row[cd[\"상품명\"]] and \"메트\" in row[cd[\"보험사명\"]]:\n",
    "        row.append(int(row[cd[\"월납화보험료\"]]*0.8))    \n",
    "                   \n",
    "    elif \"표준형\" in row[cd[\"상품명\"]] and \"푸르\" in row[cd[\"보험사명\"]]:\n",
    "        row.append(int(row[cd[\"월납화보험료\"]]*0))    \n",
    "        \n",
    "    elif \"함께\" in row[cd[\"상품명\"]] and \"푸르\" in row[cd[\"보험사명\"]] and int(row[cd[\"납입기간\"]])!=5:\n",
    "        row.append(int(row[cd[\"월납화보험료\"]]*0.7))\n",
    "                   \n",
    "    else:\n",
    "        row.append(int(row[cd[\"월납화보험료\"]]))\n",
    "        \n",
    "load_wb.create_sheet('result')\n",
    "rs=load_wb['result']\n",
    "\n",
    "for row in resulttable:\n",
    "    rs.append(row)\n",
    "load_wb.save(\"./result11.xlsx\")\n",
    "\n",
    "\n",
    "##\n",
    "##and조건 => 순차적으로\n",
    "##or조건 => 중복을 세지않고 더하기\n",
    "#나중에 모든 column 길이 맞는지 체크해야됨\n",
    "    \n",
    "#조건 : 포함 and 나 or / 제외"
   ]
  },
  {
   "cell_type": "code",
   "execution_count": null,
   "id": "89a8992f-e879-43db-b506-334a28c796e8",
   "metadata": {},
   "outputs": [],
   "source": []
  }
 ],
 "metadata": {
  "kernelspec": {
   "display_name": "Python 3 (ipykernel)",
   "language": "python",
   "name": "python3"
  },
  "language_info": {
   "codemirror_mode": {
    "name": "ipython",
    "version": 3
   },
   "file_extension": ".py",
   "mimetype": "text/x-python",
   "name": "python",
   "nbconvert_exporter": "python",
   "pygments_lexer": "ipython3",
   "version": "3.9.12"
  }
 },
 "nbformat": 4,
 "nbformat_minor": 5
}
